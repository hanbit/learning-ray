{
 "cells": [
  {
   "cell_type": "markdown",
   "id": "ec21798b",
   "metadata": {},
   "source": [
    "# Ray Clusters"
   ]
  },
  {
   "cell_type": "markdown",
   "id": "5cd0b7fe",
   "metadata": {},
   "source": [
    "\n",
    "You can run this notebook directly in\n",
    "[Colab](https://colab.research.google.com/github/hanbit/learning-ray/blob/main/notebooks/ch_09_script.ipynb).\n",
    "<a target=\"_blank\" href=\"https://colab.research.google.com/github/hanbit/learning-ray/blob/main/notebooks/ch_09_script.ipynb\">\n",
    "<img src=\"https://colab.research.google.com/assets/colab-badge.svg\" alt=\"Open In Colab\"/></a>"
   ]
  },
  {
   "cell_type": "markdown",
   "id": "feb7685c",
   "metadata": {},
   "source": [
    "For this chapter you need to install the following dependencies:"
   ]
  },
  {
   "cell_type": "code",
   "execution_count": null,
   "id": "9eb880e7",
   "metadata": {},
   "outputs": [],
   "source": [
    "! pip install \"ray==2.2.0\" boto3"
   ]
  },
  {
   "cell_type": "markdown",
   "id": "f74a1486",
   "metadata": {},
   "source": [
    "\n",
    "To import utility files for this chapter, on Colab you will also have to clone\n",
    "the repo and copy the code files to the base path of the runtime:"
   ]
  },
  {
   "cell_type": "code",
   "execution_count": null,
   "id": "7a22faf4",
   "metadata": {},
   "outputs": [],
   "source": [
    "!git clone https://github.com/hanbit/learning-ray\n",
    "%cp -r learning-ray/notebooks/* ."
   ]
  },
  {
   "cell_type": "markdown",
   "metadata": {
    "collapsed": false
   },
   "source": [
    "![Kuberay Overview](https://raw.githubusercontent.com/hanbit/learning-ray/main/notebooks/images/chapter_09/kuberay_overview.png)"
   ]
  },
  {
   "cell_type": "markdown",
   "metadata": {
    "collapsed": false
   },
   "source": [
    "![Ray Kubernetes Operator](https://raw.githubusercontent.com/hanbit/learning-ray/main/notebooks/images/chapter_09/ray_kubernetes_operator.png)"
   ]
  },
  {
   "cell_type": "code",
   "execution_count": null,
   "id": "dd58b910",
   "metadata": {
    "lines_to_next_cell": 2
   },
   "outputs": [],
   "source": [
    "import ray\n",
    "ray.init(address=\"auto\")\n",
    "print(ray.cluster_resources())\n",
    "\n",
    "\n",
    "@ray.remote\n",
    "def test():\n",
    "    return 12\n",
    "\n",
    "\n",
    "ray.get([test.remote() for i in range(12)])"
   ]
  },
  {
   "cell_type": "code",
   "execution_count": null,
   "id": "8d331f2e",
   "metadata": {},
   "outputs": [],
   "source": [
    "import ray\n",
    "ray.init(address=\"ray://localhost:10001\")\n",
    "print(ray.cluster_resources())\n",
    "\n",
    "\n",
    "@ray.remote\n",
    "def test():\n",
    "    return 12\n",
    "\n",
    "\n",
    "ray.get([test.remote() for i in range(12)])"
   ]
  }
 ],
 "metadata": {
  "jupytext": {
   "cell_metadata_filter": "-all",
   "main_language": "python",
   "notebook_metadata_filter": "-all"
  },
  "language_info": {
   "name": "python"
  }
 },
 "nbformat": 4,
 "nbformat_minor": 5
}
