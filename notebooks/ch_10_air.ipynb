{
 "cells": [
  {
   "cell_type": "markdown",
   "id": "ba89df43",
   "metadata": {},
   "source": [
    "# Getting Started with the Ray AI Runtime"
   ]
  },
  {
   "cell_type": "markdown",
   "id": "1900de5b",
   "metadata": {},
   "source": [
    "\n",
    "You can run this notebook directly in\n",
    "[Colab](https://colab.research.google.com/github/hanbit/learning_ray/blob/main/notebooks/ch_10_air.ipynb).\n",
    "<a target=\"_blank\" href=\"https://colab.research.google.com/github/hanbit/learning_ray/blob/main/notebooks/ch_10_air.ipynb\">\n",
    "<img src=\"https://colab.research.google.com/assets/colab-badge.svg\" alt=\"Open In Colab\"/></a>"
   ]
  },
  {
   "cell_type": "markdown",
   "id": "ad4f0182",
   "metadata": {},
   "source": [
    "For this chapter you will also need to install the following dependencies:"
   ]
  },
  {
   "cell_type": "code",
   "execution_count": null,
   "id": "0a8477db",
   "metadata": {
    "lines_to_next_cell": 2
   },
   "outputs": [],
   "source": [
    "! pip install \"ray[air]==2.2.0\" \"xgboost-ray==0.1.10\" \"xgboost>=1.6.2\"\n",
    "! pip install \"numpy>=1.19.5\" \"pandas>=1.3.5\" \"pyarrow>=6.0.1\" \"aiorwlock==1.3.0\""
   ]
  },
  {
   "cell_type": "markdown",
   "id": "72b8ef5a",
   "metadata": {},
   "source": [
    "![AIR Deployment](https://raw.githubusercontent.com/hanbit/learning_ray/main/notebooks/images/chapter_10/AIR_deployment.png)"
   ]
  },
  {
   "cell_type": "markdown",
   "id": "d79efcf0",
   "metadata": {},
   "source": [
    "![AIR Overview](https://raw.githubusercontent.com/hanbit/learning_ray/main/notebooks/images/chapter_10/air_overview.png)"
   ]
  },
  {
   "cell_type": "markdown",
   "id": "f9dfc551",
   "metadata": {},
   "source": [
    "![AIR Plan](https://raw.githubusercontent.com/hanbit/learning_ray/main/notebooks/images/chapter_10/air_plan.png)"
   ]
  },
  {
   "cell_type": "markdown",
   "id": "97f3c29b",
   "metadata": {},
   "source": [
    "![AIR Predictor](https://raw.githubusercontent.com/hanbit/learning_ray/main/notebooks/images/chapter_10/AIR_predictor.png)"
   ]
  },
  {
   "cell_type": "markdown",
   "id": "35907632",
   "metadata": {},
   "source": [
    "![AIR Trainer](https://raw.githubusercontent.com/hanbit/learning_ray/main/notebooks/images/chapter_10/AIR_trainer.png)"
   ]
  },
  {
   "cell_type": "markdown",
   "id": "24287bd5",
   "metadata": {},
   "source": [
    "![AIR Tuner](https://raw.githubusercontent.com/hanbit/learning_ray/main/notebooks/images/chapter_10/AIR_tuner.png)"
   ]
  },
  {
   "cell_type": "markdown",
   "id": "a68c01dd",
   "metadata": {},
   "source": [
    "![AIR Workloads](https://raw.githubusercontent.com/hanbit/learning_ray/main/notebooks/images/chapter_10/AIR_workloads.png)"
   ]
  },
  {
   "cell_type": "markdown",
   "id": "86b34d0e",
   "metadata": {},
   "source": [
    "![AIR Stateless Tasks](https://raw.githubusercontent.com/hanbit/learning_ray/main/notebooks/images/chapter_10/stateless_air_tasks.png)"
   ]
  },
  {
   "cell_type": "markdown",
   "id": "214b0291",
   "metadata": {},
   "source": [
    "![Tune Stateful Computation](https://raw.githubusercontent.com/hanbit/learning_ray/main/notebooks/images/chapter_10/Tune_stateful.png)"
   ]
  },
  {
   "cell_type": "code",
   "execution_count": null,
   "id": "020752a3",
   "metadata": {
    "lines_to_next_cell": 2
   },
   "outputs": [],
   "source": [
    "import ray\n",
    "from ray.data.preprocessors import StandardScaler\n",
    "\n",
    "\n",
    "dataset = ray.data.read_csv(\"s3://anonymous@air-example-data/breast_cancer.csv\")\n",
    "\n",
    "train_dataset, valid_dataset = dataset.train_test_split(test_size=0.2)\n",
    "test_dataset = valid_dataset.drop_columns(cols=[\"target\"])\n",
    "\n",
    "preprocessor = StandardScaler(columns=[\"mean radius\", \"mean texture\"])"
   ]
  },
  {
   "cell_type": "code",
   "execution_count": null,
   "id": "0867208c",
   "metadata": {
    "lines_to_next_cell": 2
   },
   "outputs": [],
   "source": [
    "# NOTE: Colab does not have enough resources to run this example.\n",
    "# try using num_workers=1, resources_per_worker={\"CPU\": 1, \"GPU\": 0} in your\n",
    "# ScalingConfig below.\n",
    "# In any case, this training loop will take considerable time to run.\n",
    "from ray.air.config import ScalingConfig\n",
    "from ray.train.xgboost import XGBoostTrainer\n",
    "\n",
    "\n",
    "trainer = XGBoostTrainer(\n",
    "    scaling_config=ScalingConfig(\n",
    "        num_workers=2,\n",
    "        use_gpu=False,\n",
    "    ),\n",
    "    label_column=\"target\",\n",
    "    num_boost_round=20,\n",
    "    params={\n",
    "        \"objective\": \"binary:logistic\",\n",
    "        \"eval_metric\": [\"logloss\", \"error\"],\n",
    "    },\n",
    "    datasets={\"train\": train_dataset, \"valid\": valid_dataset},\n",
    "    preprocessor=preprocessor,\n",
    ")\n",
    "result = trainer.fit()\n",
    "print(result.metrics)"
   ]
  },
  {
   "cell_type": "code",
   "execution_count": null,
   "id": "215dd80f",
   "metadata": {},
   "outputs": [],
   "source": [
    "# NOTE: Colab does not have enough resources to run this example.\n",
    "from ray import tune\n",
    "\n",
    "param_space = {\"params\": {\"max_depth\": tune.randint(1, 9)}}\n",
    "metric = \"train-logloss\"\n",
    "\n",
    "from ray.tune.tuner import Tuner, TuneConfig\n",
    "from ray.air.config import RunConfig\n",
    "\n",
    "tuner = Tuner(\n",
    "    trainer,\n",
    "    param_space=param_space,\n",
    "    run_config=RunConfig(verbose=1),\n",
    "    tune_config=TuneConfig(num_samples=2, metric=metric, mode=\"min\"),\n",
    ")\n",
    "result_grid = tuner.fit()\n",
    "\n",
    "best_result = result_grid.get_best_result()\n",
    "print(\"Best Result:\", best_result)"
   ]
  },
  {
   "cell_type": "code",
   "execution_count": null,
   "id": "598890b1",
   "metadata": {
    "lines_to_next_cell": 2
   },
   "outputs": [],
   "source": [
    "checkpoint = best_result.checkpoint\n",
    "print(checkpoint)"
   ]
  },
  {
   "cell_type": "code",
   "execution_count": null,
   "id": "302102ed",
   "metadata": {
    "lines_to_next_cell": 2
   },
   "outputs": [],
   "source": [
    "from ray.train.tensorflow import TensorflowCheckpoint\n",
    "import tensorflow as tf\n",
    "\n",
    "model = tf.keras.Sequential([\n",
    "    tf.keras.layers.InputLayer(input_shape=(1,)),\n",
    "    tf.keras.layers.Dense(1)\n",
    "])\n",
    "\n",
    "keras_checkpoint = TensorflowCheckpoint.from_model(model)"
   ]
  },
  {
   "cell_type": "code",
   "execution_count": null,
   "id": "911c0364",
   "metadata": {
    "lines_to_next_cell": 2
   },
   "outputs": [],
   "source": [
    "from ray.train.batch_predictor import BatchPredictor\n",
    "from ray.train.xgboost import XGBoostPredictor\n",
    "\n",
    "checkpoint = best_result.checkpoint\n",
    "batch_predictor = BatchPredictor.from_checkpoint(checkpoint, XGBoostPredictor)\n",
    "\n",
    "predicted_probabilities = batch_predictor.predict(test_dataset)\n",
    "predicted_probabilities.show()"
   ]
  },
  {
   "cell_type": "code",
   "execution_count": null,
   "id": "1b781908",
   "metadata": {},
   "outputs": [],
   "source": [
    "from ray import serve\n",
    "from fastapi import Request\n",
    "import pandas as pd\n",
    "from ray.serve import PredictorDeployment\n",
    "\n",
    "\n",
    "async def adapter(request: Request):\n",
    "    payload = await request.json()\n",
    "    return pd.DataFrame.from_dict(payload)\n",
    "\n",
    "\n",
    "serve.start(detached=True)\n",
    "deployment = PredictorDeployment.options(name=\"XGBoostService\")\n",
    "\n",
    "deployment.deploy(\n",
    "    XGBoostPredictor,\n",
    "    checkpoint,\n",
    "    http_adapter=adapter\n",
    ")\n",
    "\n",
    "print(deployment.url)"
   ]
  },
  {
   "cell_type": "code",
   "execution_count": null,
   "id": "55052dd1",
   "metadata": {
    "lines_to_next_cell": 2
   },
   "outputs": [],
   "source": [
    "import requests\n",
    "\n",
    "first_item = test_dataset.take(1)\n",
    "sample_input = dict(first_item[0])\n",
    "\n",
    "result = requests.post(\n",
    "    deployment.url,\n",
    "    json=[sample_input]\n",
    ")\n",
    "print(result.json())\n",
    "\n",
    "serve.shutdown()"
   ]
  },
  {
   "cell_type": "code",
   "execution_count": null,
   "id": "9956dc58",
   "metadata": {
    "lines_to_next_cell": 2
   },
   "outputs": [],
   "source": [
    "from ray.tune.tuner import Tuner\n",
    "from ray.train.rl.rl_trainer import RLTrainer\n",
    "from ray.air.config import RunConfig, ScalingConfig\n",
    "\n",
    "\n",
    "trainer = RLTrainer(\n",
    "    run_config=RunConfig(stop={\"training_iteration\": 5}),\n",
    "    scaling_config=ScalingConfig(num_workers=2, use_gpu=False),\n",
    "    algorithm=\"PPO\",\n",
    "    config={\"env\": \"CartPole-v1\"},\n",
    ")\n",
    "\n",
    "tuner = Tuner(\n",
    "    trainer,\n",
    "    _tuner_kwargs={\"checkpoint_at_end\": True},\n",
    ")\n",
    "\n",
    "result = tuner.fit()[0]"
   ]
  },
  {
   "cell_type": "code",
   "execution_count": null,
   "id": "e35d9922",
   "metadata": {
    "lines_to_next_cell": 2
   },
   "outputs": [],
   "source": [
    "from ray.train.rl.rl_predictor import RLPredictor\n",
    "from ray.serve import PredictorDeployment\n",
    "\n",
    "\n",
    "serve.start(detached=True)\n",
    "deployment = PredictorDeployment.options(name=\"RLDeployment\")\n",
    "deployment.deploy(RLPredictor, result.checkpoint)\n",
    "\n",
    "\n",
    "serve.run(\n",
    "    PredictorDeployment.options(name=\"RLDeployment\").bind(RLPredictor, result.checkpoint)\n",
    ")"
   ]
  },
  {
   "cell_type": "code",
   "execution_count": null,
   "id": "14fabd6d",
   "metadata": {},
   "outputs": [],
   "source": [
    "import gym\n",
    "import requests\n",
    "\n",
    "\n",
    "num_episodes = 5\n",
    "env = gym.make(\"CartPole-v1\")\n",
    "\n",
    "rewards = []\n",
    "for i in range(num_episodes):\n",
    "    obs = env.reset()\n",
    "    reward = 0.0\n",
    "    done = False\n",
    "    while not done:\n",
    "        action = requests.post(\n",
    "            deployment.url,\n",
    "            json={\"array\": obs.tolist()}\n",
    "        ).json()\n",
    "        obs, rew, done, _ = env.step(action)\n",
    "        reward += rew\n",
    "    rewards.append(reward)\n",
    "\n",
    "print(\"Episode rewards:\", rewards)\n",
    "\n",
    "serve.shutdown()"
   ]
  }
 ],
 "metadata": {
  "jupytext": {
   "cell_metadata_filter": "-all",
   "main_language": "python",
   "notebook_metadata_filter": "-all"
  },
  "kernelspec": {
   "display_name": "Python 3 (ipykernel)",
   "language": "python",
   "name": "python3"
  },
  "language_info": {
   "codemirror_mode": {
    "name": "ipython",
    "version": 3
   },
   "file_extension": ".py",
   "mimetype": "text/x-python",
   "name": "python",
   "nbconvert_exporter": "python",
   "pygments_lexer": "ipython3",
   "version": "3.9.13"
  }
 },
 "nbformat": 4,
 "nbformat_minor": 5
}
