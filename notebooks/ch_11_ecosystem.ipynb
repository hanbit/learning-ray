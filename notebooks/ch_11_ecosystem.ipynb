{
 "cells": [
  {
   "cell_type": "markdown",
   "id": "bfd352a6",
   "metadata": {},
   "source": [
    "# Ray's Ecosystem and Beyond"
   ]
  },
  {
   "cell_type": "markdown",
   "id": "bac1625d",
   "metadata": {},
   "source": [
    "\n",
    "You can run this notebook directly in\n",
    "[Colab](https://colab.research.google.com/github/hanbit/learning-ray/blob/main/notebooks/ch_11_ecosystem.ipynb).\n",
    "<a target=\"_blank\" href=\"https://colab.research.google.com/github/hanbit/learning-ray/blob/main/notebooks/ch_11_ecosystem.ipynb\">\n",
    "<img src=\"https://colab.research.google.com/assets/colab-badge.svg\" alt=\"Open In Colab\"/></a>"
   ]
  },
  {
   "cell_type": "markdown",
   "id": "c18c1823",
   "metadata": {},
   "source": [
    "For this chapter you will also need to install the following dependencies:"
   ]
  },
  {
   "cell_type": "code",
   "execution_count": null,
   "id": "e84c8b05",
   "metadata": {},
   "outputs": [],
   "source": [
    "! pip install \"ray[air, serve]==2.2.0\" \"gradio==3.5.0\" \"requests==2.28.1\"\n",
    "! pip install \"mlflow==1.30.0\" \"torch==1.12.1\" \"torchvision==0.13.1\""
   ]
  },
  {
   "cell_type": "markdown",
   "id": "92f35a22",
   "metadata": {},
   "source": [
    "\n",
    "To import utility files for this chapter, on Colab you will also have to clone\n",
    "the repo and copy the code files to the base path of the runtime:"
   ]
  },
  {
   "cell_type": "code",
   "execution_count": null,
   "id": "d1cb335b",
   "metadata": {},
   "outputs": [],
   "source": [
    "!git clone https://github.com/hanbit/learning-ray\n",
    "%cp -r learning-ray/notebooks/* ."
   ]
  },
  {
   "cell_type": "markdown",
   "id": "e21a9ab7",
   "metadata": {},
   "source": [
    "![AIR ML Platform](https://raw.githubusercontent.com/hanbit/learning-ray/main/notebooks/images/chapter_11/AIR_ML_platform.png)"
   ]
  },
  {
   "cell_type": "markdown",
   "id": "8297767b",
   "metadata": {},
   "source": [
    "![Custom Integrations](https://raw.githubusercontent.com/hanbit/learning-ray/main/notebooks/images/chapter_11/custom_integrations.png)"
   ]
  },
  {
   "cell_type": "markdown",
   "id": "cda14a9f",
   "metadata": {},
   "source": [
    "![Ray Extended Ecosystem](https://raw.githubusercontent.com/hanbit/learning-ray/main/notebooks/images/chapter_11/Ray_extended_eco.png)"
   ]
  },
  {
   "cell_type": "code",
   "execution_count": null,
   "id": "4587afa5",
   "metadata": {},
   "outputs": [],
   "source": [
    "from torchvision import transforms, datasets\n",
    "\n",
    "\n",
    "def load_cifar(train: bool):\n",
    "    transform = transforms.Compose([\n",
    "        transforms.ToTensor(),\n",
    "        transforms.Normalize((0.5, 0.5, 0.5), (0.5, 0.5, 0.5))\n",
    "    ])\n",
    "\n",
    "    return datasets.CIFAR10(\n",
    "        root=\"./data\",\n",
    "        download=True,\n",
    "        train=train,\n",
    "        transform=transform\n",
    "    )"
   ]
  },
  {
   "cell_type": "code",
   "execution_count": null,
   "id": "430187ce",
   "metadata": {
    "lines_to_next_cell": 2
   },
   "outputs": [],
   "source": [
    "from ray.data import from_torch\n",
    "\n",
    "\n",
    "train_dataset = from_torch(load_cifar(train=True))\n",
    "test_dataset = from_torch(load_cifar(train=False))"
   ]
  },
  {
   "cell_type": "code",
   "execution_count": null,
   "id": "9e593fac",
   "metadata": {
    "lines_to_next_cell": 2
   },
   "outputs": [],
   "source": [
    "import numpy as np\n",
    "\n",
    "\n",
    "def to_labeled_image(batch):\n",
    "    return {\n",
    "        \"image\": np.array([image.numpy() for image, _ in batch]),\n",
    "        \"label\": np.array([label for _, label in batch]),\n",
    "    }\n",
    "\n",
    "\n",
    "train_dataset = train_dataset.map_batches(to_labeled_image)\n",
    "test_dataset = test_dataset.map_batches(to_labeled_image)"
   ]
  },
  {
   "cell_type": "code",
   "execution_count": null,
   "id": "b75b9f60",
   "metadata": {},
   "outputs": [],
   "source": [
    "import torch\n",
    "import torch.nn as nn\n",
    "import torch.nn.functional as F\n",
    "\n",
    "\n",
    "class Net(nn.Module):\n",
    "    def __init__(self):\n",
    "        super().__init__()\n",
    "        self.conv1 = nn.Conv2d(3, 6, 5)\n",
    "        self.pool = nn.MaxPool2d(2, 2)\n",
    "        self.conv2 = nn.Conv2d(6, 16, 5)\n",
    "        self.fc1 = nn.Linear(16 * 5 * 5, 120)\n",
    "        self.fc2 = nn.Linear(120, 84)\n",
    "        self.fc3 = nn.Linear(84, 10)\n",
    "\n",
    "    def forward(self, x):\n",
    "        x = self.pool(F.relu(self.conv1(x)))\n",
    "        x = self.pool(F.relu(self.conv2(x)))\n",
    "        x = torch.flatten(x, 1)\n",
    "        x = F.relu(self.fc1(x))\n",
    "        x = F.relu(self.fc2(x))\n",
    "        x = self.fc3(x)\n",
    "        return x"
   ]
  },
  {
   "cell_type": "code",
   "execution_count": null,
   "id": "c2d53f79",
   "metadata": {},
   "outputs": [],
   "source": [
    "from ray import train\n",
    "from ray.air import session, Checkpoint\n",
    "\n",
    "\n",
    "def train_loop(config):\n",
    "    model = train.torch.prepare_model(Net())\n",
    "    loss_fct = nn.CrossEntropyLoss()\n",
    "    optimizer = torch.optim.SGD(model.parameters(), lr=0.001, momentum=0.9)\n",
    "\n",
    "    train_batches = session.get_dataset_shard(\"train\").iter_torch_batches(\n",
    "        batch_size=config[\"batch_size\"],\n",
    "    )\n",
    "\n",
    "    for epoch in range(config[\"epochs\"]):\n",
    "        running_loss = 0.0\n",
    "        for i, data in enumerate(train_batches):\n",
    "            inputs, labels = data[\"image\"], data[\"label\"]\n",
    "\n",
    "            optimizer.zero_grad()\n",
    "            forward_outputs = model(inputs)\n",
    "            loss = loss_fct(forward_outputs, labels)\n",
    "            loss.backward()\n",
    "            optimizer.step()\n",
    "\n",
    "            running_loss += loss.item()\n",
    "            if i % 1000 == 0:\n",
    "                print(f\"[{epoch + 1}, {i + 1:4d}] loss: \"\n",
    "                      f\"{running_loss / 1000:.3f}\")\n",
    "                running_loss = 0.0\n",
    "\n",
    "        session.report(\n",
    "            dict(running_loss=running_loss),\n",
    "            checkpoint=Checkpoint.from_dict(\n",
    "                dict(model=model.module.state_dict())\n",
    "            ),\n",
    "        )"
   ]
  },
  {
   "cell_type": "code",
   "execution_count": null,
   "id": "61ad9d9d",
   "metadata": {
    "lines_to_next_cell": 2
   },
   "outputs": [],
   "source": [
    "from ray.train.torch import TorchTrainer\n",
    "from ray.air.config import ScalingConfig, RunConfig\n",
    "from ray.air.callbacks.mlflow import MLflowLoggerCallback\n",
    "\n",
    "\n",
    "trainer = TorchTrainer(\n",
    "    train_loop_per_worker=train_loop,\n",
    "    train_loop_config={\"batch_size\": 10, \"epochs\": 5},\n",
    "    datasets={\"train\": train_dataset},\n",
    "    scaling_config=ScalingConfig(num_workers=2),\n",
    "    run_config=RunConfig(callbacks=[\n",
    "        MLflowLoggerCallback(experiment_name=\"torch_trainer\")\n",
    "    ])\n",
    "\n",
    ")\n",
    "result = trainer.fit()"
   ]
  },
  {
   "cell_type": "code",
   "execution_count": null,
   "id": "95ca2514",
   "metadata": {},
   "outputs": [],
   "source": [
    "CHECKPOINT_PATH = \"torch_checkpoint\"\n",
    "result.checkpoint.to_directory(CHECKPOINT_PATH)"
   ]
  },
  {
   "cell_type": "markdown",
   "id": "816b2ca4",
   "metadata": {},
   "source": [
    "If you run this notebook in Colab, please make sure the \"torch_checkpoint\" gets\n",
    "generated properly. The folder needs an \".is_checkpoint\" file in it, as well as\n",
    "\".tune_metadata\" and a \"dict_checkpoint.pkl\". The gradio demo will throw an error\n",
    "on faulty checkpoints."
   ]
  },
  {
   "cell_type": "code",
   "execution_count": null,
   "id": "429b4d97",
   "metadata": {
    "lines_to_next_cell": 2
   },
   "outputs": [],
   "source": [
    "# Note: if the checkpoint didn't get generated properly, you will get a \"pickle\" error here.\n",
    "! serve run --non-blocking gradio_demo:app"
   ]
  },
  {
   "cell_type": "code",
   "execution_count": null,
   "id": "273e364b",
   "metadata": {
    "lines_to_next_cell": 2
   },
   "outputs": [],
   "source": [
    "from ray.data import read_datasource, datasource\n",
    "\n",
    "\n",
    "class SnowflakeDatasource(datasource.Datasource):\n",
    "    pass\n",
    "\n",
    "\n",
    "dataset = read_datasource(SnowflakeDatasource(), ...)"
   ]
  },
  {
   "cell_type": "code",
   "execution_count": null,
   "id": "4a0516f9",
   "metadata": {
    "lines_to_next_cell": 2
   },
   "outputs": [],
   "source": [
    "from ray.train.data_parallel_trainer import DataParallelTrainer\n",
    "\n",
    "\n",
    "class JaxTrainer(DataParallelTrainer):\n",
    "    pass\n",
    "\n",
    "\n",
    "trainer = JaxTrainer(\n",
    "    ...,\n",
    "    scaling_config=ScalingConfig(...),\n",
    "    datasets=dict(train=dataset),\n",
    ")"
   ]
  },
  {
   "cell_type": "code",
   "execution_count": null,
   "id": "72e08a53",
   "metadata": {},
   "outputs": [],
   "source": [
    "from ray.tune import logger, tuner\n",
    "from ray.air.config import RunConfig\n",
    "\n",
    "\n",
    "class NeptuneCallback(logger.LoggerCallback):\n",
    "    pass\n",
    "\n",
    "\n",
    "tuner = tuner.Tuner(\n",
    "    trainer,\n",
    "    run_config=RunConfig(callbacks=[NeptuneCallback()])\n",
    ")"
   ]
  }
 ],
 "metadata": {
  "jupytext": {
   "cell_metadata_filter": "-all",
   "main_language": "python",
   "notebook_metadata_filter": "-all"
  },
  "kernelspec": {
   "display_name": "venv",
   "language": "python",
   "name": "venv"
  },
  "language_info": {
   "codemirror_mode": {
    "name": "ipython",
    "version": 3
   },
   "file_extension": ".py",
   "mimetype": "text/x-python",
   "name": "python",
   "nbconvert_exporter": "python",
   "pygments_lexer": "ipython3",
   "version": "3.7.13"
  }
 },
 "nbformat": 4,
 "nbformat_minor": 5
}
